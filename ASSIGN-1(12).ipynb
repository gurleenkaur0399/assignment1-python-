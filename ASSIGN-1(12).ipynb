{
 "cells": [
  {
   "cell_type": "code",
   "execution_count": 1,
   "metadata": {},
   "outputs": [
    {
     "name": "stdout",
     "output_type": "stream",
     "text": [
      "Enter your name: Gurjot\n",
      "Enter your age: 22\n",
      "Hi Gurjot, you will turn 100 years old in the year 2099.\n"
     ]
    }
   ],
   "source": [
    "name = input(\"Enter your name: \")\n",
    "age = int( input(\"Enter your age: \") )\n",
    "\n",
    "bday100 =  2021 - age + 100\n",
    "\n",
    "print(f\"Hi {name}, you will turn 100 years old in the year {bday100}.\")"
   ]
  },
  {
   "cell_type": "code",
   "execution_count": 2,
   "metadata": {},
   "outputs": [
    {
     "name": "stdout",
     "output_type": "stream",
     "text": [
      "How many times do you want the output to be displayed? 5\n",
      "Enter your name: Gurjot\n",
      "Enter your age: 22\n",
      "Hi Gurjot, you will turn 100 years old in the year 2099.\n",
      "Hi Gurjot, you will turn 100 years old in the year 2099.\n",
      "Hi Gurjot, you will turn 100 years old in the year 2099.\n",
      "Hi Gurjot, you will turn 100 years old in the year 2099.\n",
      "Hi Gurjot, you will turn 100 years old in the year 2099.\n"
     ]
    }
   ],
   "source": [
    "n = int(input(\"How many times do you want the output to be displayed? \"))\n",
    "\n",
    "name = input(\"Enter your name: \")\n",
    "age = int( input(\"Enter your age: \") )\n",
    "bday100 =  2021 - age + 100\n",
    "\n",
    "for i in range(n):\n",
    "    print(f\"Hi {name}, you will turn 100 years old in the year {bday100}.\")"
   ]
  },
  {
   "cell_type": "code",
   "execution_count": 3,
   "metadata": {},
   "outputs": [
    {
     "name": "stdout",
     "output_type": "stream",
     "text": [
      "How many times do you want the output to be displayed? 5\n",
      "Enter your name: Gurjot\n",
      "Enter your age: 22\n",
      "Hi Gurjot, you will turn 100 years old in the year 2099.\n",
      "\n",
      "Hi Gurjot, you will turn 100 years old in the year 2099.\n",
      "\n",
      "Hi Gurjot, you will turn 100 years old in the year 2099.\n",
      "\n",
      "Hi Gurjot, you will turn 100 years old in the year 2099.\n",
      "\n",
      "Hi Gurjot, you will turn 100 years old in the year 2099.\n",
      "\n"
     ]
    }
   ],
   "source": [
    "n = int(input(\"How many times do you want the output to be displayed? \"))\n",
    "\n",
    "name = input(\"Enter your name: \")\n",
    "age = int( input(\"Enter your age: \") )\n",
    "bday100 =  2021 - age + 100\n",
    "\n",
    "for i in range(n):\n",
    "    print(f\"Hi {name}, you will turn 100 years old in the year {bday100}.\" + \"\\n\")"
   ]
  },
  {
   "cell_type": "code",
   "execution_count": 4,
   "metadata": {},
   "outputs": [
    {
     "name": "stdout",
     "output_type": "stream",
     "text": [
      "1\n",
      "1\n",
      "2\n",
      "3\n"
     ]
    }
   ],
   "source": [
    "\n",
    "a = [1, 1, 2, 3, 5, 8, 13, 21, 34, 55, 89]\n",
    "\n",
    "for i in a:\n",
    "    if i < 5:\n",
    "        print(i)"
   ]
  },
  {
   "cell_type": "code",
   "execution_count": 5,
   "metadata": {},
   "outputs": [
    {
     "name": "stdout",
     "output_type": "stream",
     "text": [
      "[1, 1, 2, 3]\n"
     ]
    }
   ],
   "source": [
    "#extra 1\n",
    "a = [1, 1, 2, 3, 5, 8, 13, 21, 34, 55, 89]\n",
    "new = []\n",
    "for i in a:\n",
    "    if i < 5:\n",
    "        new.append(i)\n",
    "print(new)"
   ]
  },
  {
   "cell_type": "code",
   "execution_count": 6,
   "metadata": {},
   "outputs": [
    {
     "name": "stdout",
     "output_type": "stream",
     "text": [
      "[1, 1, 2, 3]\n"
     ]
    }
   ],
   "source": [
    "#extra 2\n",
    "print( [x for x in a if x < 5] )  # One liner"
   ]
  },
  {
   "cell_type": "code",
   "execution_count": 7,
   "metadata": {},
   "outputs": [
    {
     "name": "stdout",
     "output_type": "stream",
     "text": [
      "Enter number: 31\n",
      "[1, 1, 2, 3, 5, 8, 13, 21]\n"
     ]
    }
   ],
   "source": [
    "#extra 3\n",
    "a = [1, 1, 2, 3, 5, 8, 13, 21, 34, 55, 89]\n",
    "n = int(input(\"Enter number: \"))\n",
    "new = []\n",
    "for i in a:\n",
    "    if i < n:\n",
    "        new.append(i)\n",
    "print(new)"
   ]
  },
  {
   "cell_type": "code",
   "execution_count": 8,
   "metadata": {},
   "outputs": [
    {
     "name": "stdout",
     "output_type": "stream",
     "text": [
      "Enter nth term till which you want the fibonacci series: 7\n",
      "Fibonacci sequence:\n",
      "0\n",
      "1\n",
      "1\n",
      "2\n",
      "3\n",
      "5\n",
      "8\n"
     ]
    }
   ],
   "source": [
    "def fibonacci(n):\n",
    "   if n <= 1:\n",
    "       return n\n",
    "   else:\n",
    "       return(fibonacci(n-1) + fibonacci(n-2))\n",
    "\n",
    "n = int(input(\"Enter nth term till which you want the fibonacci series: \"))\n",
    "\n",
    "print(\"Fibonacci sequence:\")\n",
    "for i in range(n):\n",
    "   print(fibonacci(i))"
   ]
  },
  {
   "cell_type": "code",
   "execution_count": 9,
   "metadata": {},
   "outputs": [
    {
     "name": "stdout",
     "output_type": "stream",
     "text": [
      "[1, 2, 3, 4, 5]\n"
     ]
    }
   ],
   "source": [
    "def no_duplicates(li):\n",
    "    new = []\n",
    "    \n",
    "    for i in li:\n",
    "        if i not in new:\n",
    "            new.append(i)\n",
    "    return new\n",
    "\n",
    "a = no_duplicates( [1,1,2,3, 4, 4, 5, 5,5] )\n",
    "print(a)"
   ]
  },
  {
   "cell_type": "code",
   "execution_count": 10,
   "metadata": {},
   "outputs": [
    {
     "name": "stdout",
     "output_type": "stream",
     "text": [
      "[1, 2, 3, 4, 5]\n"
     ]
    }
   ],
   "source": [
    "def no_duplicates(li):\n",
    "    return list(set(li))\n",
    "\n",
    "print( no_duplicates([1,1,2,3, 4, 4, 5, 5,5]) )"
   ]
  },
  {
   "cell_type": "code",
   "execution_count": 11,
   "metadata": {},
   "outputs": [
    {
     "name": "stdout",
     "output_type": "stream",
     "text": [
      "Enter a number: 31\n",
      "Prime\n"
     ]
    }
   ],
   "source": [
    "def prime_num(n):\n",
    "    if n <= 1:\n",
    "        return \"Not prime\"\n",
    "    else:\n",
    "        \n",
    "        for i in range(2, n//2):\n",
    "            if n % i == 0:\n",
    "                return \"Not prime\"\n",
    "        else: \n",
    "            return \"Prime\"\n",
    "        \n",
    "n = int( input(\"Enter a number: \") )\n",
    "print( prime_num(n) )"
   ]
  },
  {
   "cell_type": "code",
   "execution_count": null,
   "metadata": {},
   "outputs": [],
   "source": []
  }
 ],
 "metadata": {
  "kernelspec": {
   "display_name": "Python 3",
   "language": "python",
   "name": "python3"
  },
  "language_info": {
   "codemirror_mode": {
    "name": "ipython",
    "version": 3
   },
   "file_extension": ".py",
   "mimetype": "text/x-python",
   "name": "python",
   "nbconvert_exporter": "python",
   "pygments_lexer": "ipython3",
   "version": "3.8.1"
  }
 },
 "nbformat": 4,
 "nbformat_minor": 4
}
